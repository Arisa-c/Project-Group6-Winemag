{
 "cells": [
  {
   "cell_type": "code",
   "execution_count": 1,
   "metadata": {},
   "outputs": [],
   "source": [
    "import pandas as pd\n",
    "import numpy as np\n",
    "\n",
    "wine = pd.read_csv(\"winemag dataset.csv\")\n",
    "wine.drop_duplicates(subset=None, keep='first', inplace=True)\n",
    "wine.dropna(axis=0, how='any', subset=['variety'], inplace=True) \n",
    "wine['description'] = wine['description'].str.lower()\n",
    "wine['variety'] = wine['variety'].str.lower()"
   ]
  },
  {
   "cell_type": "code",
   "execution_count": 2,
   "metadata": {},
   "outputs": [
    {
     "name": "stdout",
     "output_type": "stream",
     "text": [
      "(137325, 9)\n"
     ]
    },
    {
     "data": {
      "text/html": [
       "<div>\n",
       "<style scoped>\n",
       "    .dataframe tbody tr th:only-of-type {\n",
       "        vertical-align: middle;\n",
       "    }\n",
       "\n",
       "    .dataframe tbody tr th {\n",
       "        vertical-align: top;\n",
       "    }\n",
       "\n",
       "    .dataframe thead th {\n",
       "        text-align: right;\n",
       "    }\n",
       "</style>\n",
       "<table border=\"1\" class=\"dataframe\">\n",
       "  <thead>\n",
       "    <tr style=\"text-align: right;\">\n",
       "      <th></th>\n",
       "      <th>points</th>\n",
       "      <th>title</th>\n",
       "      <th>description</th>\n",
       "      <th>taster_name</th>\n",
       "      <th>price</th>\n",
       "      <th>variety</th>\n",
       "      <th>province</th>\n",
       "      <th>country</th>\n",
       "      <th>winery</th>\n",
       "    </tr>\n",
       "  </thead>\n",
       "  <tbody>\n",
       "    <tr>\n",
       "      <th>0</th>\n",
       "      <td>89</td>\n",
       "      <td>Argiolas 2017 Perdera  (Monica di Sardegna)</td>\n",
       "      <td>fragrant blue flower, mediterranean herb and w...</td>\n",
       "      <td>Kerin O’Keefe</td>\n",
       "      <td>19.0</td>\n",
       "      <td>red blends</td>\n",
       "      <td>Sicily &amp; Sardinia</td>\n",
       "      <td>Italy</td>\n",
       "      <td>Argiolas</td>\n",
       "    </tr>\n",
       "    <tr>\n",
       "      <th>1</th>\n",
       "      <td>89</td>\n",
       "      <td>Argiolas 2018 Costamolino  (Vermentino di Sard...</td>\n",
       "      <td>spring blossom and yellow stone fruit aromas m...</td>\n",
       "      <td>Kerin O’Keefe</td>\n",
       "      <td>19.0</td>\n",
       "      <td>vermentino</td>\n",
       "      <td>Sicily &amp; Sardinia</td>\n",
       "      <td>Italy</td>\n",
       "      <td>Argiolas</td>\n",
       "    </tr>\n",
       "    <tr>\n",
       "      <th>2</th>\n",
       "      <td>89</td>\n",
       "      <td>Bushong 2017 Power, Corruption &amp; Lies Red (Pas...</td>\n",
       "      <td>deep, dark and intense aromas of blackberry me...</td>\n",
       "      <td>Matt Kettmann</td>\n",
       "      <td>43.0</td>\n",
       "      <td>rhône-style red blend</td>\n",
       "      <td>California</td>\n",
       "      <td>US</td>\n",
       "      <td>Bushong</td>\n",
       "    </tr>\n",
       "  </tbody>\n",
       "</table>\n",
       "</div>"
      ],
      "text/plain": [
       "   points                                              title  \\\n",
       "0      89        Argiolas 2017 Perdera  (Monica di Sardegna)   \n",
       "1      89  Argiolas 2018 Costamolino  (Vermentino di Sard...   \n",
       "2      89  Bushong 2017 Power, Corruption & Lies Red (Pas...   \n",
       "\n",
       "                                         description    taster_name  price  \\\n",
       "0  fragrant blue flower, mediterranean herb and w...  Kerin O’Keefe   19.0   \n",
       "1  spring blossom and yellow stone fruit aromas m...  Kerin O’Keefe   19.0   \n",
       "2  deep, dark and intense aromas of blackberry me...  Matt Kettmann   43.0   \n",
       "\n",
       "                 variety           province country    winery  \n",
       "0             red blends  Sicily & Sardinia   Italy  Argiolas  \n",
       "1             vermentino  Sicily & Sardinia   Italy  Argiolas  \n",
       "2  rhône-style red blend         California      US   Bushong  "
      ]
     },
     "execution_count": 2,
     "metadata": {},
     "output_type": "execute_result"
    }
   ],
   "source": [
    "print(wine.shape)\n",
    "wine.head(3)"
   ]
  },
  {
   "cell_type": "code",
   "execution_count": 3,
   "metadata": {},
   "outputs": [
    {
     "data": {
      "text/plain": [
       "array(['riesling', 'cabernet sauvignon', 'bordeaux-style red blend',\n",
       "       'merlot', 'chardonnay', 'white blend', 'sparkling blend',\n",
       "       'sauvignon blanc', 'sangiovese', 'malbec', 'portuguese red',\n",
       "       'pinot noir', 'rosé', 'nebbiolo', 'zinfandel', 'syrah',\n",
       "       'red blend'], dtype=object)"
      ]
     },
     "execution_count": 3,
     "metadata": {},
     "output_type": "execute_result"
    }
   ],
   "source": [
    "data = wine.groupby('variety').filter(lambda x: len(x) > 2000).reset_index(drop=True)\n",
    "data['variety'].unique()   "
   ]
  },
  {
   "cell_type": "code",
   "execution_count": 4,
   "metadata": {},
   "outputs": [
    {
     "data": {
      "text/plain": [
       "array(['riesling', 'cabernet sauvignon', 'merlot', 'chardonnay',\n",
       "       'sparkling blend', 'sauvignon blanc', 'sangiovese', 'malbec',\n",
       "       'pinot noir', 'rosé', 'nebbiolo', 'zinfandel', 'syrah'],\n",
       "      dtype=object)"
      ]
     },
     "execution_count": 4,
     "metadata": {},
     "output_type": "execute_result"
    }
   ],
   "source": [
    "data = data[~data['variety'].isin(['bordeaux-style red blend', 'white blend', 'portuguese red', 'red blend'])] \n",
    "data['variety'].unique()    "
   ]
  },
  {
   "cell_type": "code",
   "execution_count": 5,
   "metadata": {},
   "outputs": [
    {
     "name": "stdout",
     "output_type": "stream",
     "text": [
      "There are totally 780 kinds of wine.\n",
      "Here we just select 13 kinds.\n"
     ]
    }
   ],
   "source": [
    "print('There are totally', len(wine.variety.value_counts()), 'kinds of wine.')\n",
    "print('Here we just select', len(data.variety.value_counts()), 'kinds.')"
   ]
  },
  {
   "cell_type": "code",
   "execution_count": 6,
   "metadata": {
    "scrolled": false
   },
   "outputs": [
    {
     "data": {
      "text/plain": [
       "pinot noir            14467\n",
       "chardonnay            12337\n",
       "cabernet sauvignon     9885\n",
       "riesling               5484\n",
       "sauvignon blanc        5265\n",
       "syrah                  4321\n",
       "rosé                   4004\n",
       "nebbiolo               3251\n",
       "merlot                 3119\n",
       "zinfandel              2797\n",
       "sangiovese             2767\n",
       "malbec                 2656\n",
       "sparkling blend        2270\n",
       "Name: variety, dtype: int64"
      ]
     },
     "execution_count": 6,
     "metadata": {},
     "output_type": "execute_result"
    }
   ],
   "source": [
    "data.variety.value_counts()"
   ]
  },
  {
   "cell_type": "code",
   "execution_count": 7,
   "metadata": {},
   "outputs": [
    {
     "data": {
      "text/plain": [
       "<AxesSubplot:title={'center':'Number of descriptions per Variety'}, xlabel='variety', ylabel='count'>"
      ]
     },
     "execution_count": 7,
     "metadata": {},
     "output_type": "execute_result"
    },
    {
     "data": {
      "image/png": "[encoded data removed]",
      "text/plain": [
       "<Figure size 1080x360 with 1 Axes>"
      ]
     },
     "metadata": {
      "needs_background": "light"
     },
     "output_type": "display_data"
    }
   ],
   "source": [
    "import matplotlib.pyplot as plt  \n",
    "import seaborn as sns\n",
    "\n",
    "plt.figure(figsize=(15,5))     \n",
    "plt.title('Number of descriptions per Variety', size=15, pad=15)   \n",
    "plt.xlabel('variety', fontsize=12) \n",
    "plt.xticks(rotation=30) \n",
    "plt.ylabel('count', fontsize=12) \n",
    "sns.set_color_codes(\"pastel\")\n",
    "sns.countplot(x=\"variety\", data=data)"
   ]
  },
  {
   "cell_type": "code",
   "execution_count": 53,
   "metadata": {},
   "outputs": [],
   "source": [
    "colour_map = {'pinot noir': 'red', 'chardonnay': 'white', 'cabernet sauvignon': 'red', 'riesling': 'white', \n",
    "              'sauvignon blanc': 'white', 'syrah': 'red', 'rosé': 'red', 'nebbiolo': 'red', 'merlot': 'red', \n",
    "              'zinfandel': 'white', 'sangiovese': 'red', 'malbec': 'red', 'sparkling blend': 'white'}"
   ]
  },
  {
   "cell_type": "code",
   "execution_count": 59,
   "metadata": {},
   "outputs": [
    {
     "data": {
      "text/html": [
       "<div>\n",
       "<style scoped>\n",
       "    .dataframe tbody tr th:only-of-type {\n",
       "        vertical-align: middle;\n",
       "    }\n",
       "\n",
       "    .dataframe tbody tr th {\n",
       "        vertical-align: top;\n",
       "    }\n",
       "\n",
       "    .dataframe thead th {\n",
       "        text-align: right;\n",
       "    }\n",
       "</style>\n",
       "<table border=\"1\" class=\"dataframe\">\n",
       "  <thead>\n",
       "    <tr style=\"text-align: right;\">\n",
       "      <th></th>\n",
       "      <th>points</th>\n",
       "      <th>title</th>\n",
       "      <th>description</th>\n",
       "      <th>taster_name</th>\n",
       "      <th>price</th>\n",
       "      <th>variety</th>\n",
       "      <th>province</th>\n",
       "      <th>country</th>\n",
       "      <th>winery</th>\n",
       "      <th>colour</th>\n",
       "      <th>red</th>\n",
       "      <th>white</th>\n",
       "    </tr>\n",
       "  </thead>\n",
       "  <tbody>\n",
       "    <tr>\n",
       "      <th>0</th>\n",
       "      <td>89</td>\n",
       "      <td>Buttonwood Grove 2017 Riesling (Finger Lakes)</td>\n",
       "      <td>honey-drizzled pear and peach meld with a bit ...</td>\n",
       "      <td>Alexander Peartree</td>\n",
       "      <td>16.0</td>\n",
       "      <td>riesling</td>\n",
       "      <td>New York</td>\n",
       "      <td>US</td>\n",
       "      <td>Buttonwood Grove</td>\n",
       "      <td>white</td>\n",
       "      <td>0</td>\n",
       "      <td>1</td>\n",
       "    </tr>\n",
       "    <tr>\n",
       "      <th>1</th>\n",
       "      <td>89</td>\n",
       "      <td>Casa Silva 2018 Los Lingues Vineyard Estate Gr...</td>\n",
       "      <td>leathery plum and berry aromas show some oak i...</td>\n",
       "      <td>Michael Schachner</td>\n",
       "      <td>20.0</td>\n",
       "      <td>cabernet sauvignon</td>\n",
       "      <td>Colchagua Valley</td>\n",
       "      <td>Chile</td>\n",
       "      <td>Casa Silva</td>\n",
       "      <td>red</td>\n",
       "      <td>1</td>\n",
       "      <td>0</td>\n",
       "    </tr>\n",
       "    <tr>\n",
       "      <th>3</th>\n",
       "      <td>89</td>\n",
       "      <td>Château Jean Gué 2016  Lalande de Pomerol</td>\n",
       "      <td>this softly textured wine shows plenty of ripe...</td>\n",
       "      <td>Roger Voss</td>\n",
       "      <td>22.0</td>\n",
       "      <td>merlot</td>\n",
       "      <td>Bordeaux</td>\n",
       "      <td>France</td>\n",
       "      <td>Château Jean Gué</td>\n",
       "      <td>red</td>\n",
       "      <td>1</td>\n",
       "      <td>0</td>\n",
       "    </tr>\n",
       "    <tr>\n",
       "      <th>5</th>\n",
       "      <td>89</td>\n",
       "      <td>Château le Thil 2017  Pessac-Léognan</td>\n",
       "      <td>pure merlot, this wine is rich, full, dense an...</td>\n",
       "      <td>Roger Voss</td>\n",
       "      <td>NaN</td>\n",
       "      <td>merlot</td>\n",
       "      <td>Bordeaux</td>\n",
       "      <td>France</td>\n",
       "      <td>Château le Thil</td>\n",
       "      <td>red</td>\n",
       "      <td>1</td>\n",
       "      <td>0</td>\n",
       "    </tr>\n",
       "    <tr>\n",
       "      <th>9</th>\n",
       "      <td>89</td>\n",
       "      <td>Cielo Malibu Estate Vineyards 2017 Malibu Esta...</td>\n",
       "      <td>fresh black-currant aromas meet with root beer...</td>\n",
       "      <td>Matt Kettmann</td>\n",
       "      <td>100.0</td>\n",
       "      <td>cabernet sauvignon</td>\n",
       "      <td>California</td>\n",
       "      <td>US</td>\n",
       "      <td>Cielo Malibu Estate Vineyards</td>\n",
       "      <td>red</td>\n",
       "      <td>1</td>\n",
       "      <td>0</td>\n",
       "    </tr>\n",
       "  </tbody>\n",
       "</table>\n",
       "</div>"
      ],
      "text/plain": [
       "   points                                              title  \\\n",
       "0      89      Buttonwood Grove 2017 Riesling (Finger Lakes)   \n",
       "1      89  Casa Silva 2018 Los Lingues Vineyard Estate Gr...   \n",
       "3      89          Château Jean Gué 2016  Lalande de Pomerol   \n",
       "5      89               Château le Thil 2017  Pessac-Léognan   \n",
       "9      89  Cielo Malibu Estate Vineyards 2017 Malibu Esta...   \n",
       "\n",
       "                                         description         taster_name  \\\n",
       "0  honey-drizzled pear and peach meld with a bit ...  Alexander Peartree   \n",
       "1  leathery plum and berry aromas show some oak i...   Michael Schachner   \n",
       "3  this softly textured wine shows plenty of ripe...          Roger Voss   \n",
       "5  pure merlot, this wine is rich, full, dense an...          Roger Voss   \n",
       "9  fresh black-currant aromas meet with root beer...       Matt Kettmann   \n",
       "\n",
       "   price             variety          province country  \\\n",
       "0   16.0            riesling          New York      US   \n",
       "1   20.0  cabernet sauvignon  Colchagua Valley   Chile   \n",
       "3   22.0              merlot          Bordeaux  France   \n",
       "5    NaN              merlot          Bordeaux  France   \n",
       "9  100.0  cabernet sauvignon        California      US   \n",
       "\n",
       "                          winery colour  red  white  \n",
       "0               Buttonwood Grove  white    0      1  \n",
       "1                     Casa Silva    red    1      0  \n",
       "3               Château Jean Gué    red    1      0  \n",
       "5                Château le Thil    red    1      0  \n",
       "9  Cielo Malibu Estate Vineyards    red    1      0  "
      ]
     },
     "execution_count": 59,
     "metadata": {},
     "output_type": "execute_result"
    }
   ],
   "source": [
    "data_color = data.copy()\n",
    "data_color['colour'] = data_color.apply(lambda row: colour_map[row['variety']], axis=1)\n",
    "colour_dummies = pd.get_dummies(data_color['colour'])\n",
    "data_color = data_color.merge(colour_dummies, left_index=True, right_index=True)\n",
    "data_color.reset_index(drop=True)\n",
    "data_color.head()"
   ]
  },
  {
   "cell_type": "code",
   "execution_count": 61,
   "metadata": {},
   "outputs": [],
   "source": [
    "from sklearn.feature_extraction.text import TfidfVectorizer\n",
    "from sklearn.feature_extraction import stop_words\n",
    "from nltk.tokenize import RegexpTokenizer\n",
    "\n",
    "tokenizer = RegexpTokenizer('[a-z]+')        \n",
    "stops = set(stop_words.ENGLISH_STOP_WORDS)   \n",
    "wines = set([w for v in wine['variety'].unique() for w in tokenizer.tokenize(v.lower())])  \n",
    "sets = set(['wine','wines','red','white','flavors','flavor','drink','zin'])\n",
    "\n",
    "stopwords = stops | wines | sets      # update the stopwords"
   ]
  },
  {
   "cell_type": "code",
   "execution_count": 62,
   "metadata": {},
   "outputs": [],
   "source": [
    "from xgboost import XGBClassifier\n",
    "\n",
    "vec_tdidf = TfidfVectorizer(ngram_range=(1,1), analyzer='word', stop_words=stopwords, norm='l2')\n",
    "clf = XGBClassifier(random_state=123, seed=2, colsample_bytree=0.6, subsample=0.7)   # XGBoost classifier"
   ]
  },
  {
   "cell_type": "code",
   "execution_count": 65,
   "metadata": {},
   "outputs": [],
   "source": [
    "from sklearn.pipeline import Pipeline, FeatureUnion\n",
    "from sklearn.base import BaseEstimator, TransformerMixin\n",
    "\n",
    "# Pipeline with helper functions\n",
    "# Transformer to select a single column from the data frame to perform additional transformations on\n",
    "\n",
    "class TextSelector(BaseEstimator, TransformerMixin):    # use on text columns in the data\n",
    "    def __init__(self, key):\n",
    "        self.key = key\n",
    "    def fit(self, X, y=None, *parg, **kwarg):\n",
    "        return self\n",
    "    def transform(self, X):\n",
    "        return X[self.key]               # returns the input as a string\n",
    "    \n",
    "class NumberSelector(BaseEstimator, TransformerMixin):  # use on numeric columns in the data\n",
    "    def __init__(self, key):     \n",
    "        self.key = key\n",
    "    def fit(self, X, y=None):\n",
    "        return self\n",
    "    def transform(self, X):\n",
    "        return X[[self.key]]             # returns the input as a dataframe"
   ]
  },
  {
   "cell_type": "code",
   "execution_count": 66,
   "metadata": {},
   "outputs": [],
   "source": [
    "text = Pipeline([('selector', TextSelector(key='description')), ('vectorizer', vec_tdidf)])\n",
    "red = Pipeline([('selector', NumberSelector(key='red'))])\n",
    "white = Pipeline([('selector', NumberSelector(key='white'))])\n",
    "\n",
    "features = FeatureUnion([('description', text), ('red', red), ('white', white)])\n",
    "pipe = Pipeline([('feats', features), ('clf',clf)])"
   ]
  },
  {
   "cell_type": "code",
   "execution_count": 67,
   "metadata": {},
   "outputs": [
    {
     "data": {
      "text/plain": [
       "{'objective': 'binary:logistic',\n",
       " 'base_score': None,\n",
       " 'booster': None,\n",
       " 'colsample_bylevel': None,\n",
       " 'colsample_bynode': None,\n",
       " 'colsample_bytree': 0.6,\n",
       " 'gamma': None,\n",
       " 'gpu_id': None,\n",
       " 'importance_type': 'gain',\n",
       " 'interaction_constraints': None,\n",
       " 'learning_rate': None,\n",
       " 'max_delta_step': None,\n",
       " 'max_depth': None,\n",
       " 'min_child_weight': None,\n",
       " 'missing': nan,\n",
       " 'monotone_constraints': None,\n",
       " 'n_estimators': 100,\n",
       " 'n_jobs': None,\n",
       " 'num_parallel_tree': None,\n",
       " 'random_state': 123,\n",
       " 'reg_alpha': None,\n",
       " 'reg_lambda': None,\n",
       " 'scale_pos_weight': None,\n",
       " 'subsample': 0.7,\n",
       " 'tree_method': None,\n",
       " 'validate_parameters': None,\n",
       " 'verbosity': None,\n",
       " 'seed': 2}"
      ]
     },
     "execution_count": 67,
     "metadata": {},
     "output_type": "execute_result"
    }
   ],
   "source": [
    "# hyperparameter tuning\n",
    "pipe.named_steps['clf'].get_params()"
   ]
  },
  {
   "cell_type": "code",
   "execution_count": 70,
   "metadata": {},
   "outputs": [
    {
     "data": {
      "text/html": [
       "<div>\n",
       "<style scoped>\n",
       "    .dataframe tbody tr th:only-of-type {\n",
       "        vertical-align: middle;\n",
       "    }\n",
       "\n",
       "    .dataframe tbody tr th {\n",
       "        vertical-align: top;\n",
       "    }\n",
       "\n",
       "    .dataframe thead th {\n",
       "        text-align: right;\n",
       "    }\n",
       "</style>\n",
       "<table border=\"1\" class=\"dataframe\">\n",
       "  <thead>\n",
       "    <tr style=\"text-align: right;\">\n",
       "      <th></th>\n",
       "      <th>description</th>\n",
       "      <th>white</th>\n",
       "      <th>red</th>\n",
       "    </tr>\n",
       "  </thead>\n",
       "  <tbody>\n",
       "    <tr>\n",
       "      <th>40538</th>\n",
       "      <td>from the pratt vineyard on sexton road, this i...</td>\n",
       "      <td>0</td>\n",
       "      <td>1</td>\n",
       "    </tr>\n",
       "    <tr>\n",
       "      <th>50048</th>\n",
       "      <td>reasonably accurate on the nose for leyda sauv...</td>\n",
       "      <td>1</td>\n",
       "      <td>0</td>\n",
       "    </tr>\n",
       "    <tr>\n",
       "      <th>7859</th>\n",
       "      <td>red fruits give this ripe, rounded wine weight...</td>\n",
       "      <td>0</td>\n",
       "      <td>1</td>\n",
       "    </tr>\n",
       "    <tr>\n",
       "      <th>69236</th>\n",
       "      <td>polarity is an unusual golden-hued wine made f...</td>\n",
       "      <td>0</td>\n",
       "      <td>1</td>\n",
       "    </tr>\n",
       "    <tr>\n",
       "      <th>29637</th>\n",
       "      <td>this wine brings aromas and flavors of pear al...</td>\n",
       "      <td>1</td>\n",
       "      <td>0</td>\n",
       "    </tr>\n",
       "    <tr>\n",
       "      <th>...</th>\n",
       "      <td>...</td>\n",
       "      <td>...</td>\n",
       "      <td>...</td>\n",
       "    </tr>\n",
       "    <tr>\n",
       "      <th>14067</th>\n",
       "      <td>saturated in color as well as on the nose, thi...</td>\n",
       "      <td>0</td>\n",
       "      <td>1</td>\n",
       "    </tr>\n",
       "    <tr>\n",
       "      <th>9323</th>\n",
       "      <td>black currant, vanilla and coffee ground notes...</td>\n",
       "      <td>0</td>\n",
       "      <td>1</td>\n",
       "    </tr>\n",
       "    <tr>\n",
       "      <th>39239</th>\n",
       "      <td>aromas of vanilla, coconut and wood spice lead...</td>\n",
       "      <td>1</td>\n",
       "      <td>0</td>\n",
       "    </tr>\n",
       "    <tr>\n",
       "      <th>92388</th>\n",
       "      <td>earthy cherry and berry aromas include a black...</td>\n",
       "      <td>0</td>\n",
       "      <td>1</td>\n",
       "    </tr>\n",
       "    <tr>\n",
       "      <th>56901</th>\n",
       "      <td>grapefruit zest and conference pear peels are ...</td>\n",
       "      <td>1</td>\n",
       "      <td>0</td>\n",
       "    </tr>\n",
       "  </tbody>\n",
       "</table>\n",
       "<p>54467 rows × 3 columns</p>\n",
       "</div>"
      ],
      "text/plain": [
       "                                             description  white  red\n",
       "40538  from the pratt vineyard on sexton road, this i...      0    1\n",
       "50048  reasonably accurate on the nose for leyda sauv...      1    0\n",
       "7859   red fruits give this ripe, rounded wine weight...      0    1\n",
       "69236  polarity is an unusual golden-hued wine made f...      0    1\n",
       "29637  this wine brings aromas and flavors of pear al...      1    0\n",
       "...                                                  ...    ...  ...\n",
       "14067  saturated in color as well as on the nose, thi...      0    1\n",
       "9323   black currant, vanilla and coffee ground notes...      0    1\n",
       "39239  aromas of vanilla, coconut and wood spice lead...      1    0\n",
       "92388  earthy cherry and berry aromas include a black...      0    1\n",
       "56901  grapefruit zest and conference pear peels are ...      1    0\n",
       "\n",
       "[54467 rows x 3 columns]"
      ]
     },
     "execution_count": 70,
     "metadata": {},
     "output_type": "execute_result"
    }
   ],
   "source": [
    "from sklearn.model_selection import train_test_split, GridSearchCV\n",
    "\n",
    "df_X = data_color[['description', 'white', 'red']]\n",
    "df_y = data_color['variety']\n",
    "X_train, X_test, y_train, y_test = train_test_split(df_X, df_y, test_size=0.25, random_state=123, stratify=df_y)\n",
    "X_train"
   ]
  },
  {
   "cell_type": "code",
   "execution_count": 71,
   "metadata": {},
   "outputs": [],
   "source": [
    "# definition of parameter grid to scan through\n",
    "param_grid = {    \n",
    "     'clf__n_estimators': [50,100,300]\n",
    "     'clf__colsample_bytree': [0.6,0.8,1]\n",
    "     'clf__subsample': [0.5, 0.6, 0.7, 0.8, 0.9, 1]\n",
    "}\n",
    "\n",
    "# grid search cross validation instantiation\n",
    "grid_search = GridSearchCV(estimator = pipe, param_grid = param_grid, cv = 3, n_jobs = 1, verbose = 0, \n",
    "                           return_train_score=True)"
   ]
  },
  {
   "cell_type": "code",
   "execution_count": 72,
   "metadata": {},
   "outputs": [
    {
     "data": {
      "text/plain": [
       "GridSearchCV(cv=3,\n",
       "             estimator=Pipeline(steps=[('feats',\n",
       "                                        FeatureUnion(transformer_list=[('description',\n",
       "                                                                        Pipeline(steps=[('selector',\n",
       "                                                                                         TextSelector(key='description')),\n",
       "                                                                                        ('vectorizer',\n",
       "                                                                                         TfidfVectorizer(stop_words={'a',\n",
       "                                                                                                                     'abouriou',\n",
       "                                                                                                                     'about',\n",
       "                                                                                                                     'above',\n",
       "                                                                                                                     'across',\n",
       "                                                                                                                     'affile',\n",
       "                                                                                                                     'after',\n",
       "                                                                                                                     'afterwards',\n",
       "                                                                                                                     'again',\n",
       "                                                                                                                     'against',\n",
       "                                                                                                                     'agiorgitiko',\n",
       "                                                                                                                     'aglianico',\n",
       "                                                                                                                     'aidani',\n",
       "                                                                                                                     'airen',\n",
       "                                                                                                                     'albana',\n",
       "                                                                                                                     'albanel...\n",
       "                                                      max_depth=None,\n",
       "                                                      min_child_weight=None,\n",
       "                                                      missing=nan,\n",
       "                                                      monotone_constraints=None,\n",
       "                                                      n_estimators=100,\n",
       "                                                      n_jobs=None,\n",
       "                                                      num_parallel_tree=None,\n",
       "                                                      random_state=123,\n",
       "                                                      reg_alpha=None,\n",
       "                                                      reg_lambda=None,\n",
       "                                                      scale_pos_weight=None,\n",
       "                                                      seed=2, subsample=0.7,\n",
       "                                                      tree_method=None,\n",
       "                                                      validate_parameters=None,\n",
       "                                                      verbosity=None))]),\n",
       "             n_jobs=1, param_grid={'clf__n_estimators': [50, 100, 300]},\n",
       "             return_train_score=True)"
      ]
     },
     "execution_count": 72,
     "metadata": {},
     "output_type": "execute_result"
    }
   ],
   "source": [
    "grid_search.fit(X_train, y_train)   # hyperparameter fitting"
   ]
  },
  {
   "cell_type": "code",
   "execution_count": 74,
   "metadata": {},
   "outputs": [
    {
     "data": {
      "text/plain": [
       "array([0.80588244, 0.87270272, 0.97587531])"
      ]
     },
     "execution_count": 74,
     "metadata": {},
     "output_type": "execute_result"
    }
   ],
   "source": [
    "grid_search.cv_results_['mean_train_score']"
   ]
  },
  {
   "cell_type": "code",
   "execution_count": 75,
   "metadata": {},
   "outputs": [
    {
     "data": {
      "text/plain": [
       "array([0.71320245, 0.72629294, 0.73042392])"
      ]
     },
     "execution_count": 75,
     "metadata": {},
     "output_type": "execute_result"
    }
   ],
   "source": [
    "grid_search.cv_results_['mean_test_score']"
   ]
  },
  {
   "cell_type": "code",
   "execution_count": 76,
   "metadata": {},
   "outputs": [
    {
     "data": {
      "text/plain": [
       "{'clf__n_estimators': 300}"
      ]
     },
     "execution_count": 76,
     "metadata": {},
     "output_type": "execute_result"
    }
   ],
   "source": [
    "grid_search.best_params_"
   ]
  },
  {
   "cell_type": "code",
   "execution_count": 92,
   "metadata": {},
   "outputs": [],
   "source": [
    "from sklearn import metrics\n",
    "\n",
    "def print_stats(preds, target, labels, sep='-', sep_len=80, fig_size=(10,8)):\n",
    "    print('XGBoost Accuracy : %.2f%%' % (metrics.accuracy_score(target, preds) * 100.0))\n",
    "    print(sep*sep_len)\n",
    "    print('Classification report:')\n",
    "    print(metrics.classification_report(target, preds))\n",
    "    print(sep*sep_len)\n",
    "    print('Confusion matrix:')\n",
    "    cm = metrics.confusion_matrix(target, preds)\n",
    "    cm = cm / np.sum(cm, axis=1)[:,None]\n",
    "    sns.set(rc={'figure.figsize':fig_size})\n",
    "    sns.heatmap(cm, xticklabels=labels, yticklabels=labels, annot=True, cmap = 'RdPu')\n",
    "    plt.pause(0.05)"
   ]
  },
  {
   "cell_type": "code",
   "execution_count": 93,
   "metadata": {},
   "outputs": [
    {
     "name": "stdout",
     "output_type": "stream",
     "text": [
      "XGBoost Accuracy : 74.17%\n",
      "--------------------------------------------------------------------------------\n",
      "Classification report:\n",
      "                    precision    recall  f1-score   support\n",
      "\n",
      "cabernet sauvignon       0.73      0.63      0.68      2887\n",
      "        chardonnay       0.89      0.80      0.85      3415\n",
      "            malbec       0.44      0.57      0.50       511\n",
      "            merlot       0.13      0.32      0.18       306\n",
      "          nebbiolo       0.76      0.81      0.79       759\n",
      "        pinot noir       0.87      0.73      0.80      4317\n",
      "          riesling       0.81      0.85      0.83      1309\n",
      "              rosé       0.83      0.83      0.83      1010\n",
      "        sangiovese       0.53      0.70      0.61       530\n",
      "   sauvignon blanc       0.69      0.78      0.73      1174\n",
      "   sparkling blend       0.66      0.81      0.73       459\n",
      "             syrah       0.44      0.60      0.51       798\n",
      "         zinfandel       0.93      0.95      0.94       681\n",
      "\n",
      "          accuracy                           0.74     18156\n",
      "         macro avg       0.67      0.72      0.69     18156\n",
      "      weighted avg       0.77      0.74      0.75     18156\n",
      "\n",
      "--------------------------------------------------------------------------------\n",
      "Confusion matrix:\n"
     ]
    },
    {
     "data": {
      "image/png": "[encoded data removed]",
      "text/plain": [
       "<Figure size 720x576 with 2 Axes>"
      ]
     },
     "metadata": {},
     "output_type": "display_data"
    }
   ],
   "source": [
    "clf_test = grid_search.best_estimator_\n",
    "preds = clf_test.predict(X_test)\n",
    "\n",
    "print_stats(y_test, preds, clf_test.classes_)"
   ]
  }
 ],
 "metadata": {
  "kernelspec": {
   "display_name": "Python 3",
   "language": "python",
   "name": "python3"
  },
  "language_info": {
   "codemirror_mode": {
    "name": "ipython",
    "version": 3
   },
   "file_extension": ".py",
   "mimetype": "text/x-python",
   "name": "python",
   "nbconvert_exporter": "python",
   "pygments_lexer": "ipython3",
   "version": "3.8.5"
  }
 },
 "nbformat": 4,
 "nbformat_minor": 4
}
