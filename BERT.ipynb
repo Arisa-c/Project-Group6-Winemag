{
 "cells": [
  {
   "cell_type": "code",
   "execution_count": 1,
   "metadata": {},
   "outputs": [],
   "source": [
    "import pandas as pd\n",
    "import numpy as np\n",
    "\n",
    "wine = pd.read_csv(\"winemag dataset.csv\")\n",
    "wine.drop_duplicates(subset=None, keep='first', inplace=True)\n",
    "wine.dropna(axis=0, how='any', subset=['variety'], inplace=True) "
   ]
  },
  {
   "cell_type": "code",
   "execution_count": 2,
   "metadata": {},
   "outputs": [
    {
     "name": "stdout",
     "output_type": "stream",
     "text": [
      "(137325, 9)\n"
     ]
    },
    {
     "data": {
      "text/html": [
       "<div>\n",
       "<style scoped>\n",
       "    .dataframe tbody tr th:only-of-type {\n",
       "        vertical-align: middle;\n",
       "    }\n",
       "\n",
       "    .dataframe tbody tr th {\n",
       "        vertical-align: top;\n",
       "    }\n",
       "\n",
       "    .dataframe thead th {\n",
       "        text-align: right;\n",
       "    }\n",
       "</style>\n",
       "<table border=\"1\" class=\"dataframe\">\n",
       "  <thead>\n",
       "    <tr style=\"text-align: right;\">\n",
       "      <th></th>\n",
       "      <th>points</th>\n",
       "      <th>title</th>\n",
       "      <th>description</th>\n",
       "      <th>taster_name</th>\n",
       "      <th>price</th>\n",
       "      <th>variety</th>\n",
       "      <th>province</th>\n",
       "      <th>country</th>\n",
       "      <th>winery</th>\n",
       "    </tr>\n",
       "  </thead>\n",
       "  <tbody>\n",
       "    <tr>\n",
       "      <th>0</th>\n",
       "      <td>89</td>\n",
       "      <td>Argiolas 2017 Perdera  (Monica di Sardegna)</td>\n",
       "      <td>Fragrant blue flower, Mediterranean herb and w...</td>\n",
       "      <td>Kerin O’Keefe</td>\n",
       "      <td>19.0</td>\n",
       "      <td>Red Blends</td>\n",
       "      <td>Sicily &amp; Sardinia</td>\n",
       "      <td>Italy</td>\n",
       "      <td>Argiolas</td>\n",
       "    </tr>\n",
       "    <tr>\n",
       "      <th>1</th>\n",
       "      <td>89</td>\n",
       "      <td>Argiolas 2018 Costamolino  (Vermentino di Sard...</td>\n",
       "      <td>Spring blossom and yellow stone fruit aromas m...</td>\n",
       "      <td>Kerin O’Keefe</td>\n",
       "      <td>19.0</td>\n",
       "      <td>Vermentino</td>\n",
       "      <td>Sicily &amp; Sardinia</td>\n",
       "      <td>Italy</td>\n",
       "      <td>Argiolas</td>\n",
       "    </tr>\n",
       "    <tr>\n",
       "      <th>2</th>\n",
       "      <td>89</td>\n",
       "      <td>Bushong 2017 Power, Corruption &amp; Lies Red (Pas...</td>\n",
       "      <td>Deep, dark and intense aromas of blackberry me...</td>\n",
       "      <td>Matt Kettmann</td>\n",
       "      <td>43.0</td>\n",
       "      <td>Rhône-style Red Blend</td>\n",
       "      <td>California</td>\n",
       "      <td>US</td>\n",
       "      <td>Bushong</td>\n",
       "    </tr>\n",
       "  </tbody>\n",
       "</table>\n",
       "</div>"
      ],
      "text/plain": [
       "   points                                              title  \\\n",
       "0      89        Argiolas 2017 Perdera  (Monica di Sardegna)   \n",
       "1      89  Argiolas 2018 Costamolino  (Vermentino di Sard...   \n",
       "2      89  Bushong 2017 Power, Corruption & Lies Red (Pas...   \n",
       "\n",
       "                                         description    taster_name  price  \\\n",
       "0  Fragrant blue flower, Mediterranean herb and w...  Kerin O’Keefe   19.0   \n",
       "1  Spring blossom and yellow stone fruit aromas m...  Kerin O’Keefe   19.0   \n",
       "2  Deep, dark and intense aromas of blackberry me...  Matt Kettmann   43.0   \n",
       "\n",
       "                 variety           province country    winery  \n",
       "0             Red Blends  Sicily & Sardinia   Italy  Argiolas  \n",
       "1             Vermentino  Sicily & Sardinia   Italy  Argiolas  \n",
       "2  Rhône-style Red Blend         California      US   Bushong  "
      ]
     },
     "execution_count": 2,
     "metadata": {},
     "output_type": "execute_result"
    }
   ],
   "source": [
    "print(wine.shape)\n",
    "wine.head(3)"
   ]
  },
  {
   "cell_type": "code",
   "execution_count": 3,
   "metadata": {},
   "outputs": [
    {
     "data": {
      "text/plain": [
       "array(['Riesling', 'Cabernet Sauvignon', 'Bordeaux-style Red Blend',\n",
       "       'Chardonnay', 'Sauvignon Blanc', 'Pinot Noir', 'Red Blend'],\n",
       "      dtype=object)"
      ]
     },
     "execution_count": 3,
     "metadata": {},
     "output_type": "execute_result"
    }
   ],
   "source": [
    "data = wine.groupby('variety').filter(lambda x: len(x) > 4500).reset_index(drop=True)\n",
    "data['variety'].unique()     "
   ]
  },
  {
   "cell_type": "code",
   "execution_count": 4,
   "metadata": {},
   "outputs": [
    {
     "data": {
      "text/plain": [
       "<AxesSubplot:title={'center':'Number of descriptions per Variety'}, xlabel='variety', ylabel='count'>"
      ]
     },
     "execution_count": 4,
     "metadata": {},
     "output_type": "execute_result"
    },
    {
     "data": {
      "image/png": "[encoded data removed]",
      "text/plain": [
       "<Figure size 1080x360 with 1 Axes>"
      ]
     },
     "metadata": {
      "needs_background": "light"
     },
     "output_type": "display_data"
    }
   ],
   "source": [
    "import matplotlib.pyplot as plt  \n",
    "import seaborn as sns\n",
    "\n",
    "plt.figure(figsize=(15,5))     \n",
    "plt.title('Number of descriptions per Variety', size=15, pad=15)   \n",
    "plt.xlabel('variety', fontsize=12) \n",
    "plt.xticks(rotation=30) \n",
    "plt.ylabel('count', fontsize=12) \n",
    "sns.set_color_codes(\"pastel\")\n",
    "sns.countplot(x=\"variety\", data=data)"
   ]
  },
  {
   "cell_type": "code",
   "execution_count": 5,
   "metadata": {},
   "outputs": [
    {
     "name": "stdout",
     "output_type": "stream",
     "text": [
      "(50506,) (12627,) (50506,) (12627,)\n"
     ]
    }
   ],
   "source": [
    "from sklearn.model_selection import train_test_split\n",
    "\n",
    "df_X = data['description']\n",
    "df_y = data['variety']\n",
    "X_train, X_test, y_train, y_test = train_test_split(df_X, df_y, test_size = 0.2, random_state=123)   \n",
    "\n",
    "print(X_train.shape, X_test.shape, y_train.shape, y_test.shape)"
   ]
  },
  {
   "cell_type": "code",
   "execution_count": 6,
   "metadata": {},
   "outputs": [
    {
     "data": {
      "text/html": [
       "<div>\n",
       "<style scoped>\n",
       "    .dataframe tbody tr th:only-of-type {\n",
       "        vertical-align: middle;\n",
       "    }\n",
       "\n",
       "    .dataframe tbody tr th {\n",
       "        vertical-align: top;\n",
       "    }\n",
       "\n",
       "    .dataframe thead th {\n",
       "        text-align: right;\n",
       "    }\n",
       "</style>\n",
       "<table border=\"1\" class=\"dataframe\">\n",
       "  <thead>\n",
       "    <tr style=\"text-align: right;\">\n",
       "      <th></th>\n",
       "      <th>description</th>\n",
       "      <th>variety</th>\n",
       "    </tr>\n",
       "  </thead>\n",
       "  <tbody>\n",
       "    <tr>\n",
       "      <th>35838</th>\n",
       "      <td>The aromas of blue fruit, herbs and spice are ...</td>\n",
       "      <td>Cabernet Sauvignon</td>\n",
       "    </tr>\n",
       "    <tr>\n",
       "      <th>60035</th>\n",
       "      <td>This SB delivers citrus peel, grass and other ...</td>\n",
       "      <td>Sauvignon Blanc</td>\n",
       "    </tr>\n",
       "    <tr>\n",
       "      <th>57366</th>\n",
       "      <td>This is a quintessential café red, with a live...</td>\n",
       "      <td>Red Blend</td>\n",
       "    </tr>\n",
       "    <tr>\n",
       "      <th>31222</th>\n",
       "      <td>This blend of Cabernet Sauvignon, Merlot, Syra...</td>\n",
       "      <td>Red Blend</td>\n",
       "    </tr>\n",
       "    <tr>\n",
       "      <th>1659</th>\n",
       "      <td>This wine is superconcentrated and complex in ...</td>\n",
       "      <td>Bordeaux-style Red Blend</td>\n",
       "    </tr>\n",
       "  </tbody>\n",
       "</table>\n",
       "</div>"
      ],
      "text/plain": [
       "                                             description  \\\n",
       "35838  The aromas of blue fruit, herbs and spice are ...   \n",
       "60035  This SB delivers citrus peel, grass and other ...   \n",
       "57366  This is a quintessential café red, with a live...   \n",
       "31222  This blend of Cabernet Sauvignon, Merlot, Syra...   \n",
       "1659   This wine is superconcentrated and complex in ...   \n",
       "\n",
       "                        variety  \n",
       "35838        Cabernet Sauvignon  \n",
       "60035           Sauvignon Blanc  \n",
       "57366                 Red Blend  \n",
       "31222                 Red Blend  \n",
       "1659   Bordeaux-style Red Blend  "
      ]
     },
     "execution_count": 6,
     "metadata": {},
     "output_type": "execute_result"
    }
   ],
   "source": [
    "train_df = pd.DataFrame({'description': X_train, 'variety': y_train })\n",
    "test_df = pd.DataFrame({'description': X_test, 'variety': y_test })\n",
    "test_df.head()"
   ]
  },
  {
   "cell_type": "code",
   "execution_count": 7,
   "metadata": {},
   "outputs": [
    {
     "data": {
      "text/plain": [
       "Pinot Noir                  11627\n",
       "Chardonnay                   9844\n",
       "Cabernet Sauvignon           7873\n",
       "Red Blend                    6579\n",
       "Bordeaux-style Red Blend     5993\n",
       "Riesling                     4400\n",
       "Sauvignon Blanc              4190\n",
       "Name: variety, dtype: int64"
      ]
     },
     "execution_count": 7,
     "metadata": {},
     "output_type": "execute_result"
    }
   ],
   "source": [
    "train_df.variety.value_counts()     # Merlot is the least, "
   ]
  },
  {
   "cell_type": "code",
   "execution_count": 8,
   "metadata": {},
   "outputs": [],
   "source": [
    "# Recreate the dataframe make the training dataset uniform, all types have the same amount.\n",
    "num = train_df[train_df['variety']=='Sauvignon Blanc'].shape[0]\n",
    "pn = train_df[train_df['variety']=='Pinot Noir'].sample(n=num, axis = 0)\n",
    "ch = train_df[train_df['variety']=='Chardonnay'].sample(n=num, axis = 0)\n",
    "ca = train_df[train_df['variety']=='Cabernet Sauvignon'].sample(n=num, axis = 0)\n",
    "rb = train_df[train_df['variety']=='Red Blend'].sample(n=num, axis = 0)\n",
    "bs = train_df[train_df['variety']=='Bordeaux-style Red Blend'].sample(n=num, axis = 0)\n",
    "ri = train_df[train_df['variety']=='Riesling'].sample(n=num, axis = 0)\n",
    "sb = train_df[train_df['variety']=='Sauvignon Blanc'].sample(n=num, axis = 0)"
   ]
  },
  {
   "cell_type": "code",
   "execution_count": 9,
   "metadata": {},
   "outputs": [
    {
     "data": {
      "text/html": [
       "<div>\n",
       "<style scoped>\n",
       "    .dataframe tbody tr th:only-of-type {\n",
       "        vertical-align: middle;\n",
       "    }\n",
       "\n",
       "    .dataframe tbody tr th {\n",
       "        vertical-align: top;\n",
       "    }\n",
       "\n",
       "    .dataframe thead th {\n",
       "        text-align: right;\n",
       "    }\n",
       "</style>\n",
       "<table border=\"1\" class=\"dataframe\">\n",
       "  <thead>\n",
       "    <tr style=\"text-align: right;\">\n",
       "      <th></th>\n",
       "      <th>description</th>\n",
       "      <th>variety</th>\n",
       "    </tr>\n",
       "  </thead>\n",
       "  <tbody>\n",
       "    <tr>\n",
       "      <th>0</th>\n",
       "      <td>The Jerome reserve is exactly what you want an...</td>\n",
       "      <td>Pinot Noir</td>\n",
       "    </tr>\n",
       "    <tr>\n",
       "      <th>1</th>\n",
       "      <td>Spicy forest and used coffee grind aromas ming...</td>\n",
       "      <td>Pinot Noir</td>\n",
       "    </tr>\n",
       "    <tr>\n",
       "      <th>2</th>\n",
       "      <td>This is a four-barrel selection from Yates Con...</td>\n",
       "      <td>Pinot Noir</td>\n",
       "    </tr>\n",
       "    <tr>\n",
       "      <th>3</th>\n",
       "      <td>Lighter in color and density, this wine shows ...</td>\n",
       "      <td>Pinot Noir</td>\n",
       "    </tr>\n",
       "    <tr>\n",
       "      <th>4</th>\n",
       "      <td>Nelson is an underappreciated source for New Z...</td>\n",
       "      <td>Pinot Noir</td>\n",
       "    </tr>\n",
       "    <tr>\n",
       "      <th>...</th>\n",
       "      <td>...</td>\n",
       "      <td>...</td>\n",
       "    </tr>\n",
       "    <tr>\n",
       "      <th>29325</th>\n",
       "      <td>Lightly fruity in the nose, yet sharp on the p...</td>\n",
       "      <td>Sauvignon Blanc</td>\n",
       "    </tr>\n",
       "    <tr>\n",
       "      <th>29326</th>\n",
       "      <td>Ripe tropical fruits dominate this warm, soft ...</td>\n",
       "      <td>Sauvignon Blanc</td>\n",
       "    </tr>\n",
       "    <tr>\n",
       "      <th>29327</th>\n",
       "      <td>Grown on the famed Kimmeridgian chalk of Sance...</td>\n",
       "      <td>Sauvignon Blanc</td>\n",
       "    </tr>\n",
       "    <tr>\n",
       "      <th>29328</th>\n",
       "      <td>This is a skin-contact wine, fermented on skin...</td>\n",
       "      <td>Sauvignon Blanc</td>\n",
       "    </tr>\n",
       "    <tr>\n",
       "      <th>29329</th>\n",
       "      <td>Briny pithy citrus aromas and a standard-feeli...</td>\n",
       "      <td>Sauvignon Blanc</td>\n",
       "    </tr>\n",
       "  </tbody>\n",
       "</table>\n",
       "<p>29330 rows × 2 columns</p>\n",
       "</div>"
      ],
      "text/plain": [
       "                                             description          variety\n",
       "0      The Jerome reserve is exactly what you want an...       Pinot Noir\n",
       "1      Spicy forest and used coffee grind aromas ming...       Pinot Noir\n",
       "2      This is a four-barrel selection from Yates Con...       Pinot Noir\n",
       "3      Lighter in color and density, this wine shows ...       Pinot Noir\n",
       "4      Nelson is an underappreciated source for New Z...       Pinot Noir\n",
       "...                                                  ...              ...\n",
       "29325  Lightly fruity in the nose, yet sharp on the p...  Sauvignon Blanc\n",
       "29326  Ripe tropical fruits dominate this warm, soft ...  Sauvignon Blanc\n",
       "29327  Grown on the famed Kimmeridgian chalk of Sance...  Sauvignon Blanc\n",
       "29328  This is a skin-contact wine, fermented on skin...  Sauvignon Blanc\n",
       "29329  Briny pithy citrus aromas and a standard-feeli...  Sauvignon Blanc\n",
       "\n",
       "[29330 rows x 2 columns]"
      ]
     },
     "execution_count": 9,
     "metadata": {},
     "output_type": "execute_result"
    }
   ],
   "source": [
    "pn = pn.append(ch).append(ca).append(rb).append(bs).append(ri).append(sb)\n",
    "train_df_new = pn.reset_index(drop=True)\n",
    "train_df_new"
   ]
  },
  {
   "cell_type": "code",
   "execution_count": 10,
   "metadata": {},
   "outputs": [
    {
     "data": {
      "text/html": [
       "<div>\n",
       "<style scoped>\n",
       "    .dataframe tbody tr th:only-of-type {\n",
       "        vertical-align: middle;\n",
       "    }\n",
       "\n",
       "    .dataframe tbody tr th {\n",
       "        vertical-align: top;\n",
       "    }\n",
       "\n",
       "    .dataframe thead th {\n",
       "        text-align: right;\n",
       "    }\n",
       "</style>\n",
       "<table border=\"1\" class=\"dataframe\">\n",
       "  <thead>\n",
       "    <tr style=\"text-align: right;\">\n",
       "      <th></th>\n",
       "      <th>description</th>\n",
       "      <th>variety</th>\n",
       "    </tr>\n",
       "  </thead>\n",
       "  <tbody>\n",
       "    <tr>\n",
       "      <th>0</th>\n",
       "      <td>Another fine Chardonnay from this producer. It...</td>\n",
       "      <td>Chardonnay</td>\n",
       "    </tr>\n",
       "    <tr>\n",
       "      <th>1</th>\n",
       "      <td>Rich and structured, yet full and concentrated...</td>\n",
       "      <td>Bordeaux-style Red Blend</td>\n",
       "    </tr>\n",
       "    <tr>\n",
       "      <th>2</th>\n",
       "      <td>Aromas of sweet berry fruit and cherry lean to...</td>\n",
       "      <td>Red Blend</td>\n",
       "    </tr>\n",
       "    <tr>\n",
       "      <th>3</th>\n",
       "      <td>While the nose gives little away here apart fr...</td>\n",
       "      <td>Riesling</td>\n",
       "    </tr>\n",
       "    <tr>\n",
       "      <th>4</th>\n",
       "      <td>Rajat Parr's single-vineyard expression may be...</td>\n",
       "      <td>Chardonnay</td>\n",
       "    </tr>\n",
       "  </tbody>\n",
       "</table>\n",
       "</div>"
      ],
      "text/plain": [
       "                                         description                   variety\n",
       "0  Another fine Chardonnay from this producer. It...                Chardonnay\n",
       "1  Rich and structured, yet full and concentrated...  Bordeaux-style Red Blend\n",
       "2  Aromas of sweet berry fruit and cherry lean to...                 Red Blend\n",
       "3  While the nose gives little away here apart fr...                  Riesling\n",
       "4  Rajat Parr's single-vineyard expression may be...                Chardonnay"
      ]
     },
     "execution_count": 10,
     "metadata": {},
     "output_type": "execute_result"
    }
   ],
   "source": [
    "train_df_new = train_df_new.sample(frac=1).reset_index(drop=True)     # shuffling the data\n",
    "train_df_new.head()"
   ]
  },
  {
   "cell_type": "code",
   "execution_count": 11,
   "metadata": {},
   "outputs": [
    {
     "data": {
      "text/plain": [
       "<AxesSubplot:title={'center':'Number of descriptions per Variety'}, xlabel='variety', ylabel='count'>"
      ]
     },
     "execution_count": 11,
     "metadata": {},
     "output_type": "execute_result"
    },
    {
     "data": {
      "image/png": "[encoded data removed]",
      "text/plain": [
       "<Figure size 1080x360 with 1 Axes>"
      ]
     },
     "metadata": {
      "needs_background": "light"
     },
     "output_type": "display_data"
    }
   ],
   "source": [
    "import matplotlib.pyplot as plt  \n",
    "import seaborn as sns\n",
    "\n",
    "plt.figure(figsize=(15,5))     \n",
    "plt.title('Number of descriptions per Variety', size=15, pad=15)   \n",
    "plt.xlabel('variety', fontsize=12) \n",
    "plt.xticks(rotation=30) \n",
    "plt.ylabel('count', fontsize=12) \n",
    "sns.set_color_codes(\"pastel\")\n",
    "sns.countplot(x=\"variety\", data=train_df_new)"
   ]
  },
  {
   "cell_type": "code",
   "execution_count": 12,
   "metadata": {},
   "outputs": [],
   "source": [
    "import os\n",
    "bert_model_name=\"uncased_L-12_H-768_A-12\"\n",
    "bert_ckpt_dir = os.path.join(bert_model_name)\n",
    "bert_ckpt_file = os.path.join(bert_ckpt_dir, \"bert_model.ckpt\")\n",
    "bert_config_file = os.path.join(bert_ckpt_dir, \"bert_config.json\")"
   ]
  },
  {
   "cell_type": "code",
   "execution_count": 13,
   "metadata": {},
   "outputs": [],
   "source": [
    "from bert.tokenization.bert_tokenization import FullTokenizer\n",
    "from tqdm import tqdm\n",
    "\n",
    "class IntentDetectionData:\n",
    "    DATA_COLUMN = \"description\"\n",
    "    LABEL_COLUMN = \"variety\"\n",
    "\n",
    "    def __init__(self, train, test, tokenizer: FullTokenizer, classes, max_seq_len=128):\n",
    "        self.tokenizer = tokenizer\n",
    "        self.max_seq_len = 0\n",
    "        self.classes = classes\n",
    "        \n",
    "        train, test = map(lambda df: df.reindex(df[IntentDetectionData.DATA_COLUMN].str.len()\n",
    "                                                .sort_values().index), [train, test])\n",
    "\n",
    "        ((self.train_x, self.train_y), (self.test_x, self.test_y)) = map(self._prepare, [train, test])\n",
    "\n",
    "        print(\"max seq_len\", self.max_seq_len)\n",
    "        self.max_seq_len = min(self.max_seq_len, max_seq_len)\n",
    "        self.train_x, self.test_x = map(self._pad, [self.train_x, self.test_x])\n",
    "\n",
    "    def _prepare(self, df):\n",
    "        x, y = [], []\n",
    "        for _, row in tqdm(df.iterrows()):\n",
    "            text, label = row[IntentDetectionData.DATA_COLUMN], row[IntentDetectionData.LABEL_COLUMN]\n",
    "            tokens = self.tokenizer.tokenize(text)\n",
    "            tokens = [\"[CLS]\"] + tokens + [\"[SEP]\"]\n",
    "            token_ids = self.tokenizer.convert_tokens_to_ids(tokens)\n",
    "            self.max_seq_len = max(self.max_seq_len, len(token_ids))\n",
    "            x.append(token_ids)\n",
    "            y.append(self.classes.index(label))\n",
    "        return np.array(x), np.array(y)\n",
    "\n",
    "    def _pad(self, ids):\n",
    "        x = []\n",
    "        for input_ids in ids:\n",
    "            input_ids = input_ids[:min(len(input_ids), self.max_seq_len - 2)]\n",
    "            input_ids = input_ids + [0] * (self.max_seq_len - len(input_ids))\n",
    "            x.append(np.array(input_ids))\n",
    "        return np.array(x)"
   ]
  },
  {
   "cell_type": "code",
   "execution_count": 14,
   "metadata": {},
   "outputs": [
    {
     "name": "stdout",
     "output_type": "stream",
     "text": [
      "['this', 'is', 'group', '6', '.']\n",
      "[2023, 2003, 2177, 1020, 1012]\n"
     ]
    }
   ],
   "source": [
    "tokenizer = FullTokenizer(vocab_file=os.path.join(bert_ckpt_dir, 'vocab.txt'))\n",
    "\n",
    "import tensorflow.compat.v1 as tf\n",
    "FLAGS = tf.app.flags.FLAGS\n",
    "tokens = tokenizer.tokenize(\"This is Group 6.\")\n",
    "print(tokens)\n",
    "print(tokenizer.convert_tokens_to_ids(tokens))"
   ]
  },
  {
   "cell_type": "code",
   "execution_count": 15,
   "metadata": {},
   "outputs": [
    {
     "name": "stderr",
     "output_type": "stream",
     "text": [
      "29330it [00:21, 1393.30it/s]\n",
      "12627it [00:08, 1476.36it/s]\n"
     ]
    },
    {
     "name": "stdout",
     "output_type": "stream",
     "text": [
      "max seq_len 194\n"
     ]
    }
   ],
   "source": [
    "classes = train_df_new.variety.unique().tolist()\n",
    "data = IntentDetectionData(train_df_new, test_df, tokenizer, classes, max_seq_len=128)"
   ]
  },
  {
   "cell_type": "code",
   "execution_count": 16,
   "metadata": {},
   "outputs": [],
   "source": [
    "from bert.loader import StockBertConfig, map_stock_config_to_params, load_stock_weights\n",
    "from bert import BertModelLayer\n",
    "\n",
    "import tensorflow as tf\n",
    "from tensorflow import keras\n",
    "import tensorflow_hub as hub\n",
    "from tensorflow.keras import layers\n",
    "\n",
    "def create_model(max_seq_len, bert_ckpt_file):\n",
    "\n",
    "    with tf.io.gfile.GFile(bert_config_file, \"r\") as reader:\n",
    "        bc = StockBertConfig.from_json_string(reader.read())\n",
    "        bert_params = map_stock_config_to_params(bc)\n",
    "        bert_params.adapter_size = None\n",
    "        bert = BertModelLayer.from_params(bert_params, name=\"bert\")\n",
    "\n",
    "    input_ids = keras.layers.Input(shape=(max_seq_len, ), dtype='int32', name=\"input_ids\")\n",
    "    bert_output = bert(input_ids)\n",
    "\n",
    "    print(\"bert.shape:\", bert_output.shape)\n",
    "\n",
    "    cls_out = keras.layers.Lambda(lambda seq: seq[:, 0, :])(bert_output)\n",
    "    cls_out = keras.layers.Dropout(0.5)(cls_out)\n",
    "    logits = keras.layers.Dense(units=768, activation=\"tanh\")(cls_out)\n",
    "    logits = keras.layers.Dropout(0.5)(logits)\n",
    "    logits = keras.layers.Dense(units=len(classes), activation=\"softmax\")(logits)\n",
    "\n",
    "    model = keras.Model(inputs=input_ids, outputs=logits)\n",
    "    model.build(input_shape=(None, max_seq_len))\n",
    "\n",
    "    load_stock_weights(bert, bert_ckpt_file)\n",
    "\n",
    "    return model"
   ]
  },
  {
   "cell_type": "code",
   "execution_count": 17,
   "metadata": {},
   "outputs": [
    {
     "name": "stdout",
     "output_type": "stream",
     "text": [
      "bert.shape: (None, 128, 768)\n",
      "Done loading 196 BERT weights from: uncased_L-12_H-768_A-12/bert_model.ckpt into <bert.model.BertModelLayer object at 0x7fc1341b8d00> (prefix:bert). Count of weights not found in the checkpoint was: [0]. Count of weights with mismatched shape: [0]\n",
      "Unused weights from checkpoint: \n",
      "\tbert/embeddings/token_type_embeddings\n",
      "\tbert/pooler/dense/bias\n",
      "\tbert/pooler/dense/kernel\n",
      "\tcls/predictions/output_bias\n",
      "\tcls/predictions/transform/LayerNorm/beta\n",
      "\tcls/predictions/transform/LayerNorm/gamma\n",
      "\tcls/predictions/transform/dense/bias\n",
      "\tcls/predictions/transform/dense/kernel\n",
      "\tcls/seq_relationship/output_bias\n",
      "\tcls/seq_relationship/output_weights\n"
     ]
    }
   ],
   "source": [
    "model = create_model(data.max_seq_len, bert_ckpt_file)"
   ]
  },
  {
   "cell_type": "code",
   "execution_count": 18,
   "metadata": {},
   "outputs": [
    {
     "name": "stdout",
     "output_type": "stream",
     "text": [
      "Model: \"model\"\n",
      "_________________________________________________________________\n",
      "Layer (type)                 Output Shape              Param #   \n",
      "=================================================================\n",
      "input_ids (InputLayer)       [(None, 128)]             0         \n",
      "_________________________________________________________________\n",
      "bert (BertModelLayer)        (None, 128, 768)          108890112 \n",
      "_________________________________________________________________\n",
      "lambda (Lambda)              (None, 768)               0         \n",
      "_________________________________________________________________\n",
      "dropout (Dropout)            (None, 768)               0         \n",
      "_________________________________________________________________\n",
      "dense (Dense)                (None, 768)               590592    \n",
      "_________________________________________________________________\n",
      "dropout_1 (Dropout)          (None, 768)               0         \n",
      "_________________________________________________________________\n",
      "dense_1 (Dense)              (None, 7)                 5383      \n",
      "=================================================================\n",
      "Total params: 109,486,087\n",
      "Trainable params: 109,486,087\n",
      "Non-trainable params: 0\n",
      "_________________________________________________________________\n"
     ]
    }
   ],
   "source": [
    "model.summary()"
   ]
  },
  {
   "cell_type": "code",
   "execution_count": 19,
   "metadata": {},
   "outputs": [],
   "source": [
    "model.compile(      # Compiling and Training the model\n",
    "  optimizer = keras.optimizers.Adam(1e-5),\n",
    "  loss = keras.losses.SparseCategoricalCrossentropy(from_logits=True),\n",
    "  metrics = [keras.metrics.SparseCategoricalAccuracy(name=\"acc\")])"
   ]
  },
  {
   "cell_type": "code",
   "execution_count": 20,
   "metadata": {},
   "outputs": [
    {
     "name": "stdout",
     "output_type": "stream",
     "text": [
      "Epoch 1/5\n",
      "1650/1650 [==============================] - 9205s 6s/step - loss: 1.5359 - acc: 0.6328 - val_loss: 1.3547 - val_acc: 0.8102\n",
      "Epoch 2/5\n",
      "1650/1650 [==============================] - 9348s 6s/step - loss: 1.3871 - acc: 0.8069 - val_loss: 1.2913 - val_acc: 0.8325\n",
      "Epoch 3/5\n",
      "1650/1650 [==============================] - 9271s 6s/step - loss: 1.3224 - acc: 0.8413 - val_loss: 1.3119 - val_acc: 0.8097\n",
      "Epoch 4/5\n",
      "1650/1650 [==============================] - 9198s 6s/step - loss: 1.2743 - acc: 0.8558 - val_loss: 1.2912 - val_acc: 0.8389\n",
      "Epoch 5/5\n",
      "1650/1650 [==============================] - 9224s 6s/step - loss: 1.2638 - acc: 0.8602 - val_loss: 1.2671 - val_acc: 0.8501\n"
     ]
    }
   ],
   "source": [
    "import datetime\n",
    "\n",
    "log_dir = \"Bert_log/\" + datetime.datetime.now().strftime(\"%Y%m%d-%H%M%s\")\n",
    "tensorboard_callback = keras.callbacks.TensorBoard(log_dir=log_dir)\n",
    "\n",
    "history = model.fit(\n",
    "  x=data.train_x, \n",
    "  y=data.train_y,\n",
    "  validation_split=0.1,\n",
    "  batch_size=16,\n",
    "  shuffle=True,\n",
    "  epochs=5,\n",
    "  callbacks=[tensorboard_callback]\n",
    ")   "
   ]
  },
  {
   "cell_type": "code",
   "execution_count": 21,
   "metadata": {},
   "outputs": [
    {
     "data": {
      "image/png": "[encoded data removed]",
      "text/plain": [
       "<Figure size 432x288 with 1 Axes>"
      ]
     },
     "metadata": {
      "needs_background": "light"
     },
     "output_type": "display_data"
    }
   ],
   "source": [
    "ax = plt.figure().gca()\n",
    "ax.xaxis.set_major_locator(MaxNLocator(integer=True))\n",
    "\n",
    "ax.plot(history.history['loss'], label='train', color = 'cornflowerblue')\n",
    "ax.plot(history.history['val_loss'], label='test', color = 'coral')\n",
    "plt.ylabel('Loss')\n",
    "plt.xlabel('Epoch')\n",
    "plt.title('Loss over training epochs')\n",
    "plt.legend()\n",
    "plt.show();"
   ]
  },
  {
   "cell_type": "code",
   "execution_count": 22,
   "metadata": {},
   "outputs": [
    {
     "data": {
      "image/png": "[encoded data removed]",
      "text/plain": [
       "<Figure size 432x288 with 1 Axes>"
      ]
     },
     "metadata": {
      "needs_background": "light"
     },
     "output_type": "display_data"
    }
   ],
   "source": [
    "ax = plt.figure().gca()\n",
    "ax.xaxis.set_major_locator(MaxNLocator(integer=True))\n",
    "\n",
    "ax.plot(history.history['acc'], label='train', color = 'cornflowerblue')\n",
    "ax.plot(history.history['val_acc'], label='test', color = 'coral')\n",
    "plt.ylabel('Accuracy')\n",
    "plt.xlabel('Epoch')\n",
    "plt.title('Accuracy over training epochs')\n",
    "plt.legend(loc='lower right')\n",
    "plt.show();"
   ]
  },
  {
   "cell_type": "code",
   "execution_count": 23,
   "metadata": {},
   "outputs": [
    {
     "name": "stdout",
     "output_type": "stream",
     "text": [
      "929/929 [==============================] - 1155s 2s/step - loss: 1.2971 - acc: 0.8878\n",
      "419/419 [==============================] - 673s 2s/step - loss: 1.3460 - acc: 0.8382\n",
      "train accuracy: 0.8877608370780945\n",
      "test accuracy: 0.8382268738746643\n"
     ]
    }
   ],
   "source": [
    "_, train_acc = model.evaluate(data.train_x, data.train_y)\n",
    "_, test_acc = model.evaluate(data.test_x, data.test_y)\n",
    "\n",
    "print(\"train accuracy:\", train_acc)\n",
    "print(\"test accuracy:\", test_acc)"
   ]
  },
  {
   "cell_type": "code",
   "execution_count": 24,
   "metadata": {},
   "outputs": [
    {
     "name": "stdout",
     "output_type": "stream",
     "text": [
      "Classification report:\n",
      "                            precision   recall  f1-score   support\n",
      "\n",
      "      Cabernet Sauvignon       0.78      0.81      0.80      1985\n",
      "         Sauvignon Blanc       0.73      0.85      0.78      1098\n",
      "               Red Blend       0.81      0.83      0.82      1795\n",
      "                Riesling       0.86      0.92      0.89      1173\n",
      "              Chardonnay       0.89      0.87      0.88      2424\n",
      "              Pinot Noir       0.91      0.80      0.85      2675\n",
      "Bordeaux-style Red Blend       0.82      0.82      0.82      1477\n",
      "\n",
      "\n",
      "                accuracy                           0.84     12627\n",
      "               macro avg       0.83      0.84      0.84     12627\n",
      "            weighted avg       0.84      0.84      0.84     12627\n"
     ]
    }
   ],
   "source": [
    "y_pred = model.predict(data.test_x).argmax(axis=-1)\n",
    "print('Classification report:')\n",
    "print(classification_report(data.test_y, y_pred, target_names=classes))"
   ]
  },
  {
   "cell_type": "code",
   "execution_count": 25,
   "metadata": {},
   "outputs": [
    {
     "data": {
      "image/png": "[encoded data removed]",
      "text/plain": [
       "<Figure size 576x432 with 2 Axes>"
      ]
     },
     "metadata": {},
     "output_type": "display_data"
    }
   ],
   "source": [
    "cm = confusion_matrix(data.test_y, y_pred)\n",
    "df_cm = pd.DataFrame(cm, index=classes, columns=classes)\n",
    "\n",
    "hmap = sns.heatmap(df_cm, annot=True, fmt=\"d\", cmap = 'RdPu')\n",
    "hmap.yaxis.set_ticklabels(hmap.yaxis.get_ticklabels(), rotation=0, ha='right')\n",
    "hmap.xaxis.set_ticklabels(hmap.xaxis.get_ticklabels(), rotation=90, ha='right');"
   ]
  },
  {
   "cell_type": "code",
   "execution_count": 26,
   "metadata": {},
   "outputs": [
    {
     "name": "stdout",
     "output_type": "stream",
     "text": [
      "-------------- Wine Predictor --------------\n",
      "\n",
      "Description: Strong wine made of red grapes\n",
      "Predicted Variety: Bordeaux-style Red Blend\n",
      "\n",
      "--------------------------------------------\n",
      "\n",
      "Description: Grapy plummy and juicy taste\n",
      "Predicted Variety: Cabernet Sauvignon\n",
      "\n",
      "--------------------------------------------\n"
     ]
    }
   ],
   "source": [
    "sentences = [\n",
    "  \"Strong wine made of red grapes\",\n",
    "  \"Grapy plummy and juicy taste\"\n",
    "]\n",
    "\n",
    "pred_tokens = map(tokenizer.tokenize, sentences)\n",
    "pred_tokens = map(lambda tok: [\"[CLS]\"] + tok + [\"[SEP]\"], pred_tokens)\n",
    "pred_token_ids = list(map(tokenizer.convert_tokens_to_ids, pred_tokens))\n",
    "\n",
    "pred_token_ids = map(lambda tids: tids +[0]*(data.max_seq_len-len(tids)),pred_token_ids)\n",
    "pred_token_ids = np.array(list(pred_token_ids))\n",
    "\n",
    "predictions = model.predict(pred_token_ids).argmax(axis=-1)\n",
    "\n",
    "print('-------------- Wine Predictor --------------\\n')\n",
    "\n",
    "for text, label in zip(sentences, predictions):\n",
    "    print(\"Description:\", text, \"\\nPredicted Variety:\", classes[label])   \n",
    "    print('\\n--------------------------------------------\\n')\n",
    "print('\\n--------------------------------------------')"
   ]
  },
  {
   "cell_type": "code",
   "execution_count": null,
   "metadata": {},
   "outputs": [],
   "source": []
  }
 ],
 "metadata": {
  "kernelspec": {
   "display_name": "Python 3",
   "language": "python",
   "name": "python3"
  },
  "language_info": {
   "codemirror_mode": {
    "name": "ipython",
    "version": 3
   },
   "file_extension": ".py",
   "mimetype": "text/x-python",
   "name": "python",
   "nbconvert_exporter": "python",
   "pygments_lexer": "ipython3",
   "version": "3.8.5"
  }
 },
 "nbformat": 4,
 "nbformat_minor": 4
}
