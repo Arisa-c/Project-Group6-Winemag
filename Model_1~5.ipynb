{
 "cells": [
  {
   "cell_type": "code",
   "execution_count": 17,
   "metadata": {},
   "outputs": [],
   "source": [
    "import pandas as pd\n",
    "import numpy as np\n",
    "\n",
    "wine = pd.read_csv(\"winemag dataset.csv\")\n",
    "wine.drop_duplicates(subset=None, keep='first', inplace=True)\n",
    "wine.dropna(axis=0, how='any', subset=['variety'], inplace=True) \n",
    "wine['description'] = wine['description'].str.lower()\n",
    "wine['variety'] = wine['variety'].str.lower()"
   ]
  },
  {
   "cell_type": "code",
   "execution_count": 18,
   "metadata": {},
   "outputs": [
    {
     "name": "stdout",
     "output_type": "stream",
     "text": [
      "(137325, 9)\n"
     ]
    },
    {
     "data": {
      "text/html": [
       "<div>\n",
       "<style scoped>\n",
       "    .dataframe tbody tr th:only-of-type {\n",
       "        vertical-align: middle;\n",
       "    }\n",
       "\n",
       "    .dataframe tbody tr th {\n",
       "        vertical-align: top;\n",
       "    }\n",
       "\n",
       "    .dataframe thead th {\n",
       "        text-align: right;\n",
       "    }\n",
       "</style>\n",
       "<table border=\"1\" class=\"dataframe\">\n",
       "  <thead>\n",
       "    <tr style=\"text-align: right;\">\n",
       "      <th></th>\n",
       "      <th>points</th>\n",
       "      <th>title</th>\n",
       "      <th>description</th>\n",
       "      <th>taster_name</th>\n",
       "      <th>price</th>\n",
       "      <th>variety</th>\n",
       "      <th>province</th>\n",
       "      <th>country</th>\n",
       "      <th>winery</th>\n",
       "    </tr>\n",
       "  </thead>\n",
       "  <tbody>\n",
       "    <tr>\n",
       "      <th>0</th>\n",
       "      <td>89</td>\n",
       "      <td>Argiolas 2017 Perdera  (Monica di Sardegna)</td>\n",
       "      <td>fragrant blue flower, mediterranean herb and w...</td>\n",
       "      <td>Kerin O’Keefe</td>\n",
       "      <td>19.0</td>\n",
       "      <td>red blends</td>\n",
       "      <td>Sicily &amp; Sardinia</td>\n",
       "      <td>Italy</td>\n",
       "      <td>Argiolas</td>\n",
       "    </tr>\n",
       "    <tr>\n",
       "      <th>1</th>\n",
       "      <td>89</td>\n",
       "      <td>Argiolas 2018 Costamolino  (Vermentino di Sard...</td>\n",
       "      <td>spring blossom and yellow stone fruit aromas m...</td>\n",
       "      <td>Kerin O’Keefe</td>\n",
       "      <td>19.0</td>\n",
       "      <td>vermentino</td>\n",
       "      <td>Sicily &amp; Sardinia</td>\n",
       "      <td>Italy</td>\n",
       "      <td>Argiolas</td>\n",
       "    </tr>\n",
       "    <tr>\n",
       "      <th>2</th>\n",
       "      <td>89</td>\n",
       "      <td>Bushong 2017 Power, Corruption &amp; Lies Red (Pas...</td>\n",
       "      <td>deep, dark and intense aromas of blackberry me...</td>\n",
       "      <td>Matt Kettmann</td>\n",
       "      <td>43.0</td>\n",
       "      <td>rhône-style red blend</td>\n",
       "      <td>California</td>\n",
       "      <td>US</td>\n",
       "      <td>Bushong</td>\n",
       "    </tr>\n",
       "  </tbody>\n",
       "</table>\n",
       "</div>"
      ],
      "text/plain": [
       "   points                                              title  \\\n",
       "0      89        Argiolas 2017 Perdera  (Monica di Sardegna)   \n",
       "1      89  Argiolas 2018 Costamolino  (Vermentino di Sard...   \n",
       "2      89  Bushong 2017 Power, Corruption & Lies Red (Pas...   \n",
       "\n",
       "                                         description    taster_name  price  \\\n",
       "0  fragrant blue flower, mediterranean herb and w...  Kerin O’Keefe   19.0   \n",
       "1  spring blossom and yellow stone fruit aromas m...  Kerin O’Keefe   19.0   \n",
       "2  deep, dark and intense aromas of blackberry me...  Matt Kettmann   43.0   \n",
       "\n",
       "                 variety           province country    winery  \n",
       "0             red blends  Sicily & Sardinia   Italy  Argiolas  \n",
       "1             vermentino  Sicily & Sardinia   Italy  Argiolas  \n",
       "2  rhône-style red blend         California      US   Bushong  "
      ]
     },
     "execution_count": 18,
     "metadata": {},
     "output_type": "execute_result"
    }
   ],
   "source": [
    "print(wine.shape)\n",
    "wine.head(3)"
   ]
  },
  {
   "cell_type": "code",
   "execution_count": 19,
   "metadata": {},
   "outputs": [
    {
     "data": {
      "text/plain": [
       "array(['riesling', 'cabernet sauvignon', 'bordeaux-style red blend',\n",
       "       'merlot', 'chardonnay', 'sauvignon blanc', 'pinot noir', 'rosé',\n",
       "       'nebbiolo', 'syrah', 'red blend'], dtype=object)"
      ]
     },
     "execution_count": 19,
     "metadata": {},
     "output_type": "execute_result"
    }
   ],
   "source": [
    "data = wine.groupby('variety').filter(lambda x: len(x) > 3000).reset_index(drop=True)\n",
    "data['variety'].unique()     # just select some varieties appears more than 3000 times (11 types)"
   ]
  },
  {
   "cell_type": "code",
   "execution_count": 20,
   "metadata": {},
   "outputs": [
    {
     "data": {
      "text/plain": [
       "<AxesSubplot:title={'center':'Number of descriptions per Variety'}, xlabel='variety', ylabel='count'>"
      ]
     },
     "execution_count": 20,
     "metadata": {},
     "output_type": "execute_result"
    },
    {
     "data": {
      "image/png": "[encoded data removed]",
      "text/plain": [
       "<Figure size 1080x360 with 1 Axes>"
      ]
     },
     "metadata": {
      "needs_background": "light"
     },
     "output_type": "display_data"
    }
   ],
   "source": [
    "import matplotlib.pyplot as plt  \n",
    "import seaborn as sns\n",
    "\n",
    "plt.figure(figsize=(15,5))     \n",
    "plt.title('Number of descriptions per Variety', size=15, pad=15)   \n",
    "plt.xlabel('variety', fontsize=12) \n",
    "plt.xticks(rotation=30) \n",
    "plt.ylabel('count', fontsize=12) \n",
    "sns.set_color_codes(\"pastel\")\n",
    "sns.countplot(x=\"variety\", data=data)"
   ]
  },
  {
   "cell_type": "code",
   "execution_count": 9,
   "metadata": {},
   "outputs": [],
   "source": [
    "from sklearn.feature_extraction.text import TfidfVectorizer\n",
    "from sklearn.feature_extraction import stop_words\n",
    "from nltk.tokenize import RegexpTokenizer\n",
    "\n",
    "tokenizer = RegexpTokenizer('[a-z]+')        \n",
    "stops = set(stop_words.ENGLISH_STOP_WORDS)   \n",
    "wines = set([w for v in wine['variety'].unique() for w in tokenizer.tokenize(v.lower())])  \n",
    "sets = set(['wine','wines','red','white','flavors','flavor','drink','zin'])\n",
    "\n",
    "stopwords = stops | wines | sets      # update the stopwords"
   ]
  },
  {
   "cell_type": "code",
   "execution_count": 10,
   "metadata": {},
   "outputs": [
    {
     "name": "stdout",
     "output_type": "stream",
     "text": [
      "(58371,) (19457,) (58371,) (19457,)\n"
     ]
    }
   ],
   "source": [
    "from sklearn.model_selection import train_test_split\n",
    "\n",
    "df_X = data['description']\n",
    "df_y = data['variety']\n",
    "X_train, X_test, y_train, y_test = train_test_split(df_X, df_y, test_size = 0.25, random_state=123)\n",
    "print(X_train.shape, X_test.shape, y_train.shape, y_test.shape)"
   ]
  },
  {
   "cell_type": "code",
   "execution_count": 11,
   "metadata": {},
   "outputs": [],
   "source": [
    "from sklearn.feature_extraction.text import CountVectorizer, TfidfVectorizer \n",
    "\n",
    "vect = TfidfVectorizer(min_df=5, max_df=0.9, stop_words = stopwords, \n",
    "                       lowercase=True, token_pattern='[a-zA-Z\\-][a-zA-Z\\-]{2,}')\n",
    "X_train_dtm = vect.fit_transform(X_train)\n",
    "X_test_dtm = vect.transform(X_test)"
   ]
  },
  {
   "cell_type": "markdown",
   "metadata": {},
   "source": [
    "# Model_1: Logistic Regression"
   ]
  },
  {
   "cell_type": "code",
   "execution_count": 12,
   "metadata": {},
   "outputs": [
    {
     "name": "stdout",
     "output_type": "stream",
     "text": [
      "CPU times: user 1min 15s, sys: 19.3 s, total: 1min 34s\n",
      "Wall time: 14.8 s\n",
      "\n",
      "Mode_1: Logistic Regression\n",
      "Accuracy: 70.12%\n"
     ]
    }
   ],
   "source": [
    "from sklearn.linear_model import LogisticRegression\n",
    "from sklearn.metrics import accuracy_score\n",
    "\n",
    "logreg = LogisticRegression(max_iter = 5000)    \n",
    "%time logreg.fit(X_train_dtm, y_train)\n",
    "y_pred_class = logreg.predict(X_test_dtm)\n",
    "accuracy1 = accuracy_score(y_test, y_pred_class)\n",
    "print('\\nMode_1: Logistic Regression')\n",
    "print('Accuracy: %.2f%%' % (accuracy1 * 100.0))"
   ]
  },
  {
   "cell_type": "markdown",
   "metadata": {},
   "source": [
    "# Model_2: Linear SVM"
   ]
  },
  {
   "cell_type": "code",
   "execution_count": 13,
   "metadata": {},
   "outputs": [
    {
     "name": "stdout",
     "output_type": "stream",
     "text": [
      "CPU times: user 3.51 s, sys: 43.9 ms, total: 3.55 s\n",
      "Wall time: 3.59 s\n",
      "\n",
      "Mode_2: Linear SVM\n",
      "Accuracy: 69.29%\n"
     ]
    }
   ],
   "source": [
    "from sklearn.svm import LinearSVC\n",
    "\n",
    "svm_linear = LinearSVC(max_iter = 5000)\n",
    "%time svm_linear.fit(X_train_dtm, y_train)\n",
    "y_pred_class = svm_linear.predict(X_test_dtm)\n",
    "accuracy2 = accuracy_score(y_test, y_pred_class)\n",
    "print('\\nMode_2: Linear SVM')\n",
    "print('Accuracy: %.2f%%' % (accuracy2 * 100.0))"
   ]
  },
  {
   "cell_type": "markdown",
   "metadata": {},
   "source": [
    "# Model_3: Decision Tree"
   ]
  },
  {
   "cell_type": "code",
   "execution_count": 14,
   "metadata": {},
   "outputs": [
    {
     "name": "stdout",
     "output_type": "stream",
     "text": [
      "CPU times: user 33 s, sys: 221 ms, total: 33.2 s\n",
      "Wall time: 33.5 s\n",
      "\n",
      "Model_3: Decision Tree\n",
      "Accuracy: 48.74%\n"
     ]
    }
   ],
   "source": [
    "from sklearn.tree import DecisionTreeClassifier\n",
    "\n",
    "dfc = DecisionTreeClassifier()\n",
    "%time dfc.fit(X_train_dtm, y_train)\n",
    "y_pred_class = dfc.predict(X_test_dtm)\n",
    "accuracy3 = accuracy_score(y_test, y_pred_class)\n",
    "print('\\nModel_3: Decision Tree')\n",
    "print('Accuracy: %.2f%%' % (accuracy3 * 100.0))"
   ]
  },
  {
   "cell_type": "markdown",
   "metadata": {},
   "source": [
    "# Model_4: Random Forest"
   ]
  },
  {
   "cell_type": "code",
   "execution_count": 15,
   "metadata": {},
   "outputs": [
    {
     "name": "stdout",
     "output_type": "stream",
     "text": [
      "CPU times: user 2min 24s, sys: 1.52 s, total: 2min 25s\n",
      "Wall time: 2min 27s\n",
      "\n",
      "Model_4: Random Forest\n",
      "Accuracy: 64.25%\n"
     ]
    }
   ],
   "source": [
    "from sklearn.ensemble import RandomForestClassifier\n",
    "\n",
    "rfc = RandomForestClassifier(n_estimators=100, max_features=\"auto\", random_state=0)\n",
    "%time rfc.fit(X_train_dtm, y_train)\n",
    "y_pred_class = rfc.predict(X_test_dtm)\n",
    "accuracy4 = accuracy_score(y_test, y_pred_class)\n",
    "print('\\nModel_4: Random Forest')\n",
    "print('Accuracy: %.2f%%' % (accuracy4 * 100.0))"
   ]
  },
  {
   "cell_type": "markdown",
   "metadata": {},
   "source": [
    "# Model_5: AdaBoost"
   ]
  },
  {
   "cell_type": "code",
   "execution_count": 16,
   "metadata": {},
   "outputs": [
    {
     "name": "stdout",
     "output_type": "stream",
     "text": [
      "CPU times: user 25.6 s, sys: 567 ms, total: 26.2 s\n",
      "Wall time: 26.5 s\n",
      "\n",
      "Model_5: AdaBoost\n",
      "Accuracy: 48.96%\n"
     ]
    }
   ],
   "source": [
    "from sklearn.ensemble import AdaBoostClassifier\n",
    "\n",
    "ada = AdaBoostClassifier(n_estimators=100)\n",
    "%time ada.fit(X_train_dtm, y_train)\n",
    "y_pred_class = ada.predict(X_test_dtm)\n",
    "accuracy5 = accuracy_score(y_test, y_pred_class)\n",
    "print('\\nModel_5: AdaBoost')\n",
    "print('Accuracy: %.2f%%' % (accuracy5 * 100.0))"
   ]
  },
  {
   "cell_type": "code",
   "execution_count": null,
   "metadata": {},
   "outputs": [],
   "source": []
  }
 ],
 "metadata": {
  "kernelspec": {
   "display_name": "Python 3",
   "language": "python",
   "name": "python3"
  },
  "language_info": {
   "codemirror_mode": {
    "name": "ipython",
    "version": 3
   },
   "file_extension": ".py",
   "mimetype": "text/x-python",
   "name": "python",
   "nbconvert_exporter": "python",
   "pygments_lexer": "ipython3",
   "version": "3.8.5"
  }
 },
 "nbformat": 4,
 "nbformat_minor": 4
}
